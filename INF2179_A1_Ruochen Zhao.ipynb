{
  "cells": [
    {
      "cell_type": "markdown",
      "metadata": {
        "id": "-A9LnSSzIKDT"
      },
      "source": [
        "# 1. Data Preparation and Feature Extraction"
      ]
    },
    {
      "cell_type": "code",
      "execution_count": 36,
      "metadata": {
        "colab": {
          "base_uri": "https://localhost:8080/"
        },
        "id": "IJrSmgnCHmlE",
        "outputId": "98798abd-86b7-404a-827f-cfa6668f28a4"
      },
      "outputs": [
        {
          "output_type": "stream",
          "name": "stderr",
          "text": [
            "[nltk_data] Downloading package punkt to /root/nltk_data...\n",
            "[nltk_data]   Package punkt is already up-to-date!\n",
            "[nltk_data] Downloading package stopwords to /root/nltk_data...\n",
            "[nltk_data]   Package stopwords is already up-to-date!\n",
            "[nltk_data] Downloading package wordnet to /root/nltk_data...\n",
            "[nltk_data]   Package wordnet is already up-to-date!\n"
          ]
        }
      ],
      "source": [
        "# Import necessary libraries\n",
        "import pandas as pd\n",
        "import numpy as np\n",
        "import seaborn as sns\n",
        "import matplotlib.pyplot as plt\n",
        "import re\n",
        "from nltk.tokenize import word_tokenize\n",
        "from nltk.corpus import stopwords\n",
        "from nltk.stem import WordNetLemmatizer\n",
        "from collections import Counter\n",
        "from sklearn.feature_extraction.text import CountVectorizer\n",
        "from sklearn.tree import DecisionTreeClassifier\n",
        "from sklearn.ensemble import RandomForestClassifier\n",
        "from sklearn.naive_bayes import MultinomialNB\n",
        "from sklearn.metrics import accuracy_score, confusion_matrix, classification_report\n",
        "from sklearn.model_selection import cross_val_score, train_test_split\n",
        "import scipy.sparse as sp\n",
        "import nltk\n",
        "\n",
        "nltk.download('punkt')\n",
        "nltk.download('stopwords')\n",
        "nltk.download('wordnet')\n",
        "\n",
        "train_df = pd.read_csv('train.csv')\n",
        "test_df = pd.read_csv('test.csv')"
      ]
    },
    {
      "cell_type": "code",
      "execution_count": 37,
      "metadata": {
        "colab": {
          "base_uri": "https://localhost:8080/"
        },
        "id": "aagfYI4EIoFu",
        "outputId": "ed4025b5-0243-4f3d-e3a1-7033ba97e560"
      },
      "outputs": [
        {
          "output_type": "stream",
          "name": "stdout",
          "text": [
            "user_reputation    0\n",
            "reply_count        0\n",
            "thumbs_up          0\n",
            "thumbs_down        0\n",
            "best_score         0\n",
            "text               2\n",
            "stars              0\n",
            "dtype: int64\n",
            "user_reputation    0\n",
            "reply_count        0\n",
            "thumbs_up          0\n",
            "thumbs_down        0\n",
            "best_score         0\n",
            "text               0\n",
            "stars              0\n",
            "dtype: int64\n"
          ]
        }
      ],
      "source": [
        "# Check for NaN values in the training data set\n",
        "\n",
        "print(train_df.isnull().sum())\n",
        "print(test_df.isnull().sum())\n",
        "\n",
        "# From the result we can see that we only have 2 NaN values in the train set, because\n",
        "# the number is relative small compared to the entire data set,\n",
        "# we choose to delete them directly.\n",
        "train_df = train_df.dropna()"
      ]
    },
    {
      "cell_type": "code",
      "execution_count": 38,
      "metadata": {
        "colab": {
          "base_uri": "https://localhost:8080/"
        },
        "id": "aDsWsRRm_jTe",
        "outputId": "575f563d-c90a-49dd-c6e2-ed04c5a3b9bd"
      },
      "outputs": [
        {
          "output_type": "stream",
          "name": "stdout",
          "text": [
            "14543\n",
            "3637\n"
          ]
        }
      ],
      "source": [
        "# Check how many rows are there in the train and test dataset\n",
        "print(train_df.shape[0])\n",
        "print(test_df.shape[0])"
      ]
    },
    {
      "cell_type": "code",
      "execution_count": 39,
      "metadata": {
        "colab": {
          "base_uri": "https://localhost:8080/"
        },
        "id": "l9xEpQV__AJ2",
        "outputId": "e438c8aa-6282-49b2-9e5c-9cd311f65265"
      },
      "outputs": [
        {
          "output_type": "stream",
          "name": "stdout",
          "text": [
            "Number of rows with stars is 0 in train dataset: 1356\n",
            "Number of rows with stars is 0 in test dataset: 340\n"
          ]
        }
      ],
      "source": [
        "# Check how many rows are there for 'stars' == 0 in the train dataset\n",
        "number_of_rows_train = len(train_df[train_df['stars'] == 0])\n",
        "print(f\"Number of rows with stars is 0 in train dataset: {number_of_rows_train}\")\n",
        "\n",
        "# Check how many rows are there for 'stars' == 0 in the test dataset\n",
        "number_of_rows_test = len(test_df[test_df['stars'] == 0])\n",
        "print(f\"Number of rows with stars is 0 in test dataset: {number_of_rows_test}\")"
      ]
    },
    {
      "cell_type": "code",
      "execution_count": 40,
      "metadata": {
        "id": "hnJnurLY-xn0"
      },
      "outputs": [],
      "source": [
        "# We can see from the above results that less than 10% of the data has a star of 0, according to the requirement\n",
        "# I choose to drop the rows where 'stars' == 0 as a step of my data cleaning\n",
        "train_df = train_df.drop(train_df[train_df.stars == 0].index)\n",
        "test_df = test_df.drop(test_df[test_df.stars == 0].index)"
      ]
    },
    {
      "cell_type": "code",
      "execution_count": 41,
      "metadata": {
        "colab": {
          "base_uri": "https://localhost:8080/",
          "height": 755
        },
        "id": "MWJaIyWp_mMW",
        "outputId": "c8c7b2d5-2f0c-4403-d435-b6571c232dc9"
      },
      "outputs": [
        {
          "output_type": "stream",
          "name": "stderr",
          "text": [
            "<ipython-input-41-2be01bd97ccd>:2: FutureWarning: The default value of numeric_only in DataFrame.corr is deprecated. In a future version, it will default to False. Select only valid columns or specify the value of numeric_only to silence this warning.\n",
            "  corr_matrix = train_df.corr(method='spearman')  # Use Spearman's rank correlation\n"
          ]
        },
        {
          "output_type": "display_data",
          "data": {
            "text/plain": [
              "<Figure size 1000x800 with 2 Axes>"
            ],
            "image/png": "[encoded data removed]"
          },
          "metadata": {}
        }
      ],
      "source": [
        "# Use Pearson's correlation to see the relation between each numerical values\n",
        "corr_matrix = train_df.corr(method='spearman')  # Use Spearman's rank correlation\n",
        "\n",
        "# Visualize the correlation matrix\n",
        "plt.figure(figsize=(10, 8))\n",
        "sns.heatmap(corr_matrix, annot=True, fmt=\".2f\", cmap='coolwarm')\n",
        "plt.title('Correlation Matrix (Spearman)')\n",
        "plt.show()\n",
        "\n",
        "# From the correlation matrix we can see that there is a relatively high correlation between thumb_up and best_score,\n",
        "# so I choose to only include best_score for my later analysis"
      ]
    },
    {
      "cell_type": "code",
      "execution_count": 42,
      "metadata": {
        "id": "IQ5lqgCFozlK"
      },
      "outputs": [],
      "source": [
        "# Define a function to perform okenization of text column\n",
        "\n",
        "# Define stopwords and lemmatizer\n",
        "stop_words = set(stopwords.words('english'))\n",
        "lemmatizer = WordNetLemmatizer()\n",
        "\n",
        "# Contractions dictionary\n",
        "contractions_dict = {\n",
        "    \"don't\": \"do not\",\n",
        "    \"can't\": \"cannot\",\n",
        "    \"doesn’t\": \"does not\",\n",
        "    \"didn't\": \"did not\",\n",
        "    \"haven't\": \"have not\",\n",
        "    \"wasn't\": \"was not\",\n",
        "    \"won't\": \"will not\",\n",
        "    \"wouldn't\": \"would not\",\n",
        "    \"couldn't\": \"could not\",\n",
        "    \"isn't\": \"is not\",\n",
        "    \"weren't\": \"were not\",\n",
        "    \"aren't\": \"are not\",\n",
        "    \"ain't\": \"is not\"\n",
        "}\n",
        "\n",
        "# Compile the contraction dict for faster access\n",
        "contractions_re = re.compile('(%s)' % '|'.join(contractions_dict.keys()))\n",
        "\n",
        "# Function to expand contractions\n",
        "def expand_contractions(text, contractions_dict=contractions_dict):\n",
        "    def replace(match):\n",
        "        return contractions_dict[match.group(0)]\n",
        "    return contractions_re.sub(replace, text)\n",
        "\n",
        "# Updated clean_text function\n",
        "def clean_text(text):\n",
        "    # Replace user mentions with a generic token\n",
        "    text = re.sub(r'@\\w+', '@user', text)\n",
        "    # Convert text to lowercase\n",
        "    text = text.lower()\n",
        "    # Expand contractions\n",
        "    text = expand_contractions(text)\n",
        "    # Preserve emphasis while removing non-alphanumeric characters, except for apostrophes\n",
        "    text = re.sub(r'(.)\\1+', r'\\1\\1', text)  # Adjust the repetition as needed\n",
        "    # Tokenize\n",
        "    tokens = word_tokenize(text)\n",
        "    # Remove stop words and lemmatize\n",
        "    cleaned_tokens = [lemmatizer.lemmatize(word) for word in tokens if word not in stop_words]\n",
        "    # Rejoin words\n",
        "    cleaned_text = ' '.join(cleaned_tokens)\n",
        "    return cleaned_text\n",
        "\n",
        "# Apply the function to the dataset\n",
        "train_df['cleaned_text'] = train_df['text'].apply(clean_text)\n",
        "test_df['cleaned_text'] = test_df['text'].apply(clean_text)\n",
        "\n",
        "# After cleaning, determine the frequency of each word\n",
        "all_words_train = [word for text in train_df['cleaned_text'] for word in text.split()]\n",
        "word_freq_train = Counter(all_words_train)\n",
        "\n",
        "all_words_test = [word for text in test_df['cleaned_text'] for word in text.split()]\n",
        "word_freq_test = Counter(all_words_test)\n",
        "\n",
        "# Identify and filter out rare words based on a chosen threshold\n",
        "threshold = 3\n",
        "rare_words_train = {word for word, freq in word_freq_train.items() if freq < threshold}\n",
        "train_df['cleaned_text'] = train_df['cleaned_text'].apply(lambda text: ' '.join([word for word in text.split() if word not in rare_words_train]))\n",
        "\n",
        "rare_words_test = {word for word, freq in word_freq_test.items() if freq < threshold}\n",
        "test_df['cleaned_text'] = test_df['cleaned_text'].apply(lambda text: ' '.join([word for word in text.split() if word not in rare_words_test]))\n",
        "\n"
      ]
    },
    {
      "cell_type": "code",
      "execution_count": 43,
      "metadata": {
        "id": "K0yGNVt8SDP5"
      },
      "outputs": [],
      "source": [
        "# Initialize CountVectorizer with max_features=800\n",
        "vectorizer = CountVectorizer(max_features=800)\n",
        "\n",
        "# Fit the vectorizer on the training data's cleaned_text and transform the training data\n",
        "X_train = vectorizer.fit_transform(train_df['cleaned_text'])\n",
        "\n",
        "# Transform the test data using the already fitted vectorizer\n",
        "X_test = vectorizer.transform(test_df['cleaned_text'])\n"
      ]
    },
    {
      "cell_type": "code",
      "execution_count": 44,
      "metadata": {
        "id": "1UlvecWNPAti"
      },
      "outputs": [],
      "source": [
        "# Feature extraction: review length\n",
        "train_df['review_length'] = train_df['cleaned_text'].apply(len)\n",
        "test_df['review_length'] = test_df['cleaned_text'].apply(len)"
      ]
    },
    {
      "cell_type": "code",
      "execution_count": 45,
      "metadata": {
        "id": "8zoI_kkBZ92e"
      },
      "outputs": [],
      "source": [
        "# Data preprocessing: Normalization of numerical values for a better comparison\n",
        "def normalize_feature(dataframe, features):\n",
        "\n",
        "    for feature in features:\n",
        "        dataframe[feature] = (dataframe[feature] - dataframe[feature].min()) / (dataframe[feature].max() - dataframe[feature].min())\n",
        "    return dataframe\n",
        "\n",
        "# List of feature to normalize\n",
        "feature_to_normalize = ['best_score', 'review_length', 'thumbs_down', 'user_reputation', 'reply_count', 'thumbs_up']\n",
        "\n",
        "# Apply the normalization function to DataFrame\n",
        "train_df = normalize_feature(train_df, feature_to_normalize)\n",
        "test_df = normalize_feature(test_df, feature_to_normalize)"
      ]
    },
    {
      "cell_type": "code",
      "execution_count": 46,
      "metadata": {
        "id": "iLNEqlu0cBg7"
      },
      "outputs": [],
      "source": [
        "# Convert 'review_length' to a sparse format for both train and test sets\n",
        "\n",
        "X_train_selected = sp.csr_matrix(train_df[['review_length','best_score','thumbs_down','user_reputation','reply_count']])\n",
        "X_test_selected = sp.csr_matrix(test_df[['review_length','best_score','thumbs_down','user_reputation','reply_count']])\n",
        "\n",
        "# Concatenate text features with 'user_reputation' and 'best_score'\n",
        "X_train = sp.hstack([X_train, X_train_selected], format='csr')\n",
        "X_test = sp.hstack([X_test, X_test_selected], format='csr')"
      ]
    },
    {
      "cell_type": "code",
      "execution_count": 47,
      "metadata": {
        "id": "T6_QD3xcaLRT"
      },
      "outputs": [],
      "source": [
        "# Define the target variable y_train and y_test as the stars each comment has\n",
        "y_train = train_df['stars']\n",
        "y_test = test_df['stars']"
      ]
    },
    {
      "cell_type": "markdown",
      "metadata": {
        "id": "g8Z1OennTCs0"
      },
      "source": [
        "# 2. Model Selection and Training"
      ]
    },
    {
      "cell_type": "markdown",
      "metadata": {
        "id": "8ynF5rVGm5W2"
      },
      "source": [
        "## Model selection 1: Decision Trees"
      ]
    },
    {
      "cell_type": "code",
      "execution_count": 48,
      "metadata": {
        "colab": {
          "base_uri": "https://localhost:8080/"
        },
        "id": "OrbCvyxiCjer",
        "outputId": "d5cdcfc1-b16b-4734-933b-46a62ca267d5"
      },
      "outputs": [
        {
          "output_type": "stream",
          "name": "stdout",
          "text": [
            "Decision Tree Model Accuracy: 0.79\n"
          ]
        }
      ],
      "source": [
        "# Initialize the classifier\n",
        "dt_classifier = DecisionTreeClassifier(criterion='entropy', random_state=42)\n",
        "\n",
        "# Train the classifier\n",
        "dt_classifier.fit(X_train, y_train)\n",
        "\n",
        "# Predict on the test data\n",
        "y_pred_dt = dt_classifier.predict(X_test)\n",
        "\n",
        "# Evaluate the model\n",
        "accuracy_dt = accuracy_score(y_test, y_pred_dt)\n",
        "conf_matrix_dt = confusion_matrix(y_test, y_pred_dt)\n",
        "class_report_dt = classification_report(y_test, y_pred_dt)\n",
        "\n",
        "print(f\"Decision Tree Model Accuracy: {accuracy_dt:.2f}\")\n",
        "\n"
      ]
    },
    {
      "cell_type": "code",
      "execution_count": 49,
      "metadata": {
        "colab": {
          "base_uri": "https://localhost:8080/"
        },
        "id": "Q6S2dY71KrWq",
        "outputId": "036b7994-2d56-46a2-f98e-d66647e370f7"
      },
      "outputs": [
        {
          "output_type": "stream",
          "name": "stdout",
          "text": [
            "Decision Tree Confusion Matrix:\n",
            " [[  12    3    2    5   24]\n",
            " [   6    4    7    5   22]\n",
            " [   7    3   16   16   56]\n",
            " [   5    8   15   54  239]\n",
            " [  20   11   36  188 2533]]\n",
            "Decision Tree Classification Report:\n",
            "               precision    recall  f1-score   support\n",
            "\n",
            "           1       0.24      0.26      0.25        46\n",
            "           2       0.14      0.09      0.11        44\n",
            "           3       0.21      0.16      0.18        98\n",
            "           4       0.20      0.17      0.18       321\n",
            "           5       0.88      0.91      0.89      2788\n",
            "\n",
            "    accuracy                           0.79      3297\n",
            "   macro avg       0.33      0.32      0.32      3297\n",
            "weighted avg       0.78      0.79      0.78      3297\n",
            "\n"
          ]
        }
      ],
      "source": [
        "print(\"Decision Tree Confusion Matrix:\\n\", conf_matrix_dt)\n",
        "print(\"Decision Tree Classification Report:\\n\", class_report_dt)"
      ]
    },
    {
      "cell_type": "markdown",
      "metadata": {
        "id": "JsJcmua1njS_"
      },
      "source": [
        "## Model selection 2: Random Forest"
      ]
    },
    {
      "cell_type": "code",
      "execution_count": 50,
      "metadata": {
        "colab": {
          "base_uri": "https://localhost:8080/",
          "height": 75
        },
        "id": "Q46oT_sWOcMq",
        "outputId": "d5a9c934-9a32-43b8-d7b5-e2434d4ab189"
      },
      "outputs": [
        {
          "output_type": "execute_result",
          "data": {
            "text/plain": [
              "RandomForestClassifier(random_state=42)"
            ],
            "text/html": [
              "<style>#sk-container-id-5 {color: black;background-color: white;}#sk-container-id-5 pre{padding: 0;}#sk-container-id-5 div.sk-toggleable {background-color: white;}#sk-container-id-5 label.sk-toggleable__label {cursor: pointer;display: block;width: 100%;margin-bottom: 0;padding: 0.3em;box-sizing: border-box;text-align: center;}#sk-container-id-5 label.sk-toggleable__label-arrow:before {content: \"▸\";float: left;margin-right: 0.25em;color: #696969;}#sk-container-id-5 label.sk-toggleable__label-arrow:hover:before {color: black;}#sk-container-id-5 div.sk-estimator:hover label.sk-toggleable__label-arrow:before {color: black;}#sk-container-id-5 div.sk-toggleable__content {max-height: 0;max-width: 0;overflow: hidden;text-align: left;background-color: #f0f8ff;}#sk-container-id-5 div.sk-toggleable__content pre {margin: 0.2em;color: black;border-radius: 0.25em;background-color: #f0f8ff;}#sk-container-id-5 input.sk-toggleable__control:checked~div.sk-toggleable__content {max-height: 200px;max-width: 100%;overflow: auto;}#sk-container-id-5 input.sk-toggleable__control:checked~label.sk-toggleable__label-arrow:before {content: \"▾\";}#sk-container-id-5 div.sk-estimator input.sk-toggleable__control:checked~label.sk-toggleable__label {background-color: #d4ebff;}#sk-container-id-5 div.sk-label input.sk-toggleable__control:checked~label.sk-toggleable__label {background-color: #d4ebff;}#sk-container-id-5 input.sk-hidden--visually {border: 0;clip: rect(1px 1px 1px 1px);clip: rect(1px, 1px, 1px, 1px);height: 1px;margin: -1px;overflow: hidden;padding: 0;position: absolute;width: 1px;}#sk-container-id-5 div.sk-estimator {font-family: monospace;background-color: #f0f8ff;border: 1px dotted black;border-radius: 0.25em;box-sizing: border-box;margin-bottom: 0.5em;}#sk-container-id-5 div.sk-estimator:hover {background-color: #d4ebff;}#sk-container-id-5 div.sk-parallel-item::after {content: \"\";width: 100%;border-bottom: 1px solid gray;flex-grow: 1;}#sk-container-id-5 div.sk-label:hover label.sk-toggleable__label {background-color: #d4ebff;}#sk-container-id-5 div.sk-serial::before {content: \"\";position: absolute;border-left: 1px solid gray;box-sizing: border-box;top: 0;bottom: 0;left: 50%;z-index: 0;}#sk-container-id-5 div.sk-serial {display: flex;flex-direction: column;align-items: center;background-color: white;padding-right: 0.2em;padding-left: 0.2em;position: relative;}#sk-container-id-5 div.sk-item {position: relative;z-index: 1;}#sk-container-id-5 div.sk-parallel {display: flex;align-items: stretch;justify-content: center;background-color: white;position: relative;}#sk-container-id-5 div.sk-item::before, #sk-container-id-5 div.sk-parallel-item::before {content: \"\";position: absolute;border-left: 1px solid gray;box-sizing: border-box;top: 0;bottom: 0;left: 50%;z-index: -1;}#sk-container-id-5 div.sk-parallel-item {display: flex;flex-direction: column;z-index: 1;position: relative;background-color: white;}#sk-container-id-5 div.sk-parallel-item:first-child::after {align-self: flex-end;width: 50%;}#sk-container-id-5 div.sk-parallel-item:last-child::after {align-self: flex-start;width: 50%;}#sk-container-id-5 div.sk-parallel-item:only-child::after {width: 0;}#sk-container-id-5 div.sk-dashed-wrapped {border: 1px dashed gray;margin: 0 0.4em 0.5em 0.4em;box-sizing: border-box;padding-bottom: 0.4em;background-color: white;}#sk-container-id-5 div.sk-label label {font-family: monospace;font-weight: bold;display: inline-block;line-height: 1.2em;}#sk-container-id-5 div.sk-label-container {text-align: center;}#sk-container-id-5 div.sk-container {/* jupyter's `normalize.less` sets `[hidden] { display: none; }` but bootstrap.min.css set `[hidden] { display: none !important; }` so we also need the `!important` here to be able to override the default hidden behavior on the sphinx rendered scikit-learn.org. See: https://github.com/scikit-learn/scikit-learn/issues/21755 */display: inline-block !important;position: relative;}#sk-container-id-5 div.sk-text-repr-fallback {display: none;}</style><div id=\"sk-container-id-5\" class=\"sk-top-container\"><div class=\"sk-text-repr-fallback\"><pre>RandomForestClassifier(random_state=42)</pre><b>In a Jupyter environment, please rerun this cell to show the HTML representation or trust the notebook. <br />On GitHub, the HTML representation is unable to render, please try loading this page with nbviewer.org.</b></div><div class=\"sk-container\" hidden><div class=\"sk-item\"><div class=\"sk-estimator sk-toggleable\"><input class=\"sk-toggleable__control sk-hidden--visually\" id=\"sk-estimator-id-5\" type=\"checkbox\" checked><label for=\"sk-estimator-id-5\" class=\"sk-toggleable__label sk-toggleable__label-arrow\">RandomForestClassifier</label><div class=\"sk-toggleable__content\"><pre>RandomForestClassifier(random_state=42)</pre></div></div></div></div></div>"
            ]
          },
          "metadata": {},
          "execution_count": 50
        }
      ],
      "source": [
        "\n",
        "# Initialize RandomForestClassifier with balanced class weights\n",
        "rf_classifier = RandomForestClassifier(n_estimators=100,\n",
        "                                       random_state=42)\n",
        "\n",
        "# Train the classifier\n",
        "rf_classifier.fit(X_train, y_train)"
      ]
    },
    {
      "cell_type": "code",
      "execution_count": null,
      "metadata": {
        "colab": {
          "base_uri": "https://localhost:8080/"
        },
        "id": "WDLbYbs_Ofu5",
        "outputId": "4157eec1-660b-4ac9-caac-3c76202c1873"
      },
      "outputs": [
        {
          "output_type": "stream",
          "name": "stdout",
          "text": [
            "Model Accuracy: 0.85\n"
          ]
        }
      ],
      "source": [
        "# Predict on the test data\n",
        "y_pred_rf = rf_classifier.predict(X_test)\n",
        "\n",
        "# Calculate the accuracy\n",
        "accuracy = accuracy_score(y_test, y_pred_rf)\n",
        "print(f\"Model Accuracy: {accuracy:.2f}\")\n"
      ]
    },
    {
      "cell_type": "code",
      "execution_count": 51,
      "metadata": {
        "colab": {
          "base_uri": "https://localhost:8080/"
        },
        "id": "mGnZR7FUkco4",
        "outputId": "f9935084-8ba9-4f74-9d65-626dead1f953"
      },
      "outputs": [
        {
          "output_type": "stream",
          "name": "stdout",
          "text": [
            "Confusion Matrix:\n",
            "[[   5    0    1    0   40]\n",
            " [   0    1    2    0   41]\n",
            " [   0    0    9    1   88]\n",
            " [   1    1    3   17  299]\n",
            " [   2    0    5    1 2780]]\n",
            "Classification Report:\n",
            "              precision    recall  f1-score   support\n",
            "\n",
            "           1       0.62      0.11      0.19        46\n",
            "           2       0.50      0.02      0.04        44\n",
            "           3       0.45      0.09      0.15        98\n",
            "           4       0.89      0.05      0.10       321\n",
            "           5       0.86      1.00      0.92      2788\n",
            "\n",
            "    accuracy                           0.85      3297\n",
            "   macro avg       0.67      0.25      0.28      3297\n",
            "weighted avg       0.84      0.85      0.80      3297\n",
            "\n"
          ]
        }
      ],
      "source": [
        "\n",
        "# Compute confusion matrix\n",
        "conf_matrix = confusion_matrix(y_test, y_pred_rf)\n",
        "print(f\"Confusion Matrix:\\n{conf_matrix}\")\n",
        "\n",
        "# Detailed classification report\n",
        "class_report = classification_report(y_test, y_pred_rf)\n",
        "print(f\"Classification Report:\\n{class_report}\")"
      ]
    },
    {
      "cell_type": "markdown",
      "source": [
        "**Here I use random Forest here as my final classifier and my accuracy.csv and pred.csv is based on this random forest model.**\n",
        "\n"
      ],
      "metadata": {
        "id": "r7tDXjsbvMSC"
      }
    },
    {
      "cell_type": "code",
      "source": [
        "#Save my prediction into a csv file\n",
        "pred = pd.Series(y_pred_rf).to_csv('pred.csv', index=False, header=False)"
      ],
      "metadata": {
        "id": "SFXaMT9otCyD"
      },
      "execution_count": null,
      "outputs": []
    },
    {
      "cell_type": "code",
      "source": [
        "# Export accuracy to csv\n",
        "accuracy = pd.Series(accuracy).to_csv('accuracy.csv', index=False, header=False)"
      ],
      "metadata": {
        "id": "UROxg3-suJLC"
      },
      "execution_count": 52,
      "outputs": []
    },
    {
      "cell_type": "code",
      "execution_count": 53,
      "metadata": {
        "colab": {
          "base_uri": "https://localhost:8080/"
        },
        "id": "uBcnm1fUDnAl",
        "outputId": "bee9692c-b917-486b-c9de-0e986bffe355"
      },
      "outputs": [
        {
          "output_type": "stream",
          "name": "stdout",
          "text": [
            "Class distribution in y_train:\n",
            "5    11039\n",
            "4     1334\n",
            "3      392\n",
            "1      234\n",
            "2      188\n",
            "Name: stars, dtype: int64\n"
          ]
        }
      ],
      "source": [
        "class_distribution = y_train.value_counts()\n",
        "print(\"Class distribution in y_train:\")\n",
        "print(class_distribution)"
      ]
    },
    {
      "cell_type": "code",
      "execution_count": 54,
      "metadata": {
        "colab": {
          "base_uri": "https://localhost:8080/",
          "height": 75
        },
        "id": "byAsyN_McQfy",
        "outputId": "1b37a529-d662-4a59-9aa6-348234d1a5be"
      },
      "outputs": [
        {
          "output_type": "execute_result",
          "data": {
            "text/plain": [
              "RandomForestClassifier(class_weight='balanced', random_state=42)"
            ],
            "text/html": [
              "<style>#sk-container-id-6 {color: black;background-color: white;}#sk-container-id-6 pre{padding: 0;}#sk-container-id-6 div.sk-toggleable {background-color: white;}#sk-container-id-6 label.sk-toggleable__label {cursor: pointer;display: block;width: 100%;margin-bottom: 0;padding: 0.3em;box-sizing: border-box;text-align: center;}#sk-container-id-6 label.sk-toggleable__label-arrow:before {content: \"▸\";float: left;margin-right: 0.25em;color: #696969;}#sk-container-id-6 label.sk-toggleable__label-arrow:hover:before {color: black;}#sk-container-id-6 div.sk-estimator:hover label.sk-toggleable__label-arrow:before {color: black;}#sk-container-id-6 div.sk-toggleable__content {max-height: 0;max-width: 0;overflow: hidden;text-align: left;background-color: #f0f8ff;}#sk-container-id-6 div.sk-toggleable__content pre {margin: 0.2em;color: black;border-radius: 0.25em;background-color: #f0f8ff;}#sk-container-id-6 input.sk-toggleable__control:checked~div.sk-toggleable__content {max-height: 200px;max-width: 100%;overflow: auto;}#sk-container-id-6 input.sk-toggleable__control:checked~label.sk-toggleable__label-arrow:before {content: \"▾\";}#sk-container-id-6 div.sk-estimator input.sk-toggleable__control:checked~label.sk-toggleable__label {background-color: #d4ebff;}#sk-container-id-6 div.sk-label input.sk-toggleable__control:checked~label.sk-toggleable__label {background-color: #d4ebff;}#sk-container-id-6 input.sk-hidden--visually {border: 0;clip: rect(1px 1px 1px 1px);clip: rect(1px, 1px, 1px, 1px);height: 1px;margin: -1px;overflow: hidden;padding: 0;position: absolute;width: 1px;}#sk-container-id-6 div.sk-estimator {font-family: monospace;background-color: #f0f8ff;border: 1px dotted black;border-radius: 0.25em;box-sizing: border-box;margin-bottom: 0.5em;}#sk-container-id-6 div.sk-estimator:hover {background-color: #d4ebff;}#sk-container-id-6 div.sk-parallel-item::after {content: \"\";width: 100%;border-bottom: 1px solid gray;flex-grow: 1;}#sk-container-id-6 div.sk-label:hover label.sk-toggleable__label {background-color: #d4ebff;}#sk-container-id-6 div.sk-serial::before {content: \"\";position: absolute;border-left: 1px solid gray;box-sizing: border-box;top: 0;bottom: 0;left: 50%;z-index: 0;}#sk-container-id-6 div.sk-serial {display: flex;flex-direction: column;align-items: center;background-color: white;padding-right: 0.2em;padding-left: 0.2em;position: relative;}#sk-container-id-6 div.sk-item {position: relative;z-index: 1;}#sk-container-id-6 div.sk-parallel {display: flex;align-items: stretch;justify-content: center;background-color: white;position: relative;}#sk-container-id-6 div.sk-item::before, #sk-container-id-6 div.sk-parallel-item::before {content: \"\";position: absolute;border-left: 1px solid gray;box-sizing: border-box;top: 0;bottom: 0;left: 50%;z-index: -1;}#sk-container-id-6 div.sk-parallel-item {display: flex;flex-direction: column;z-index: 1;position: relative;background-color: white;}#sk-container-id-6 div.sk-parallel-item:first-child::after {align-self: flex-end;width: 50%;}#sk-container-id-6 div.sk-parallel-item:last-child::after {align-self: flex-start;width: 50%;}#sk-container-id-6 div.sk-parallel-item:only-child::after {width: 0;}#sk-container-id-6 div.sk-dashed-wrapped {border: 1px dashed gray;margin: 0 0.4em 0.5em 0.4em;box-sizing: border-box;padding-bottom: 0.4em;background-color: white;}#sk-container-id-6 div.sk-label label {font-family: monospace;font-weight: bold;display: inline-block;line-height: 1.2em;}#sk-container-id-6 div.sk-label-container {text-align: center;}#sk-container-id-6 div.sk-container {/* jupyter's `normalize.less` sets `[hidden] { display: none; }` but bootstrap.min.css set `[hidden] { display: none !important; }` so we also need the `!important` here to be able to override the default hidden behavior on the sphinx rendered scikit-learn.org. See: https://github.com/scikit-learn/scikit-learn/issues/21755 */display: inline-block !important;position: relative;}#sk-container-id-6 div.sk-text-repr-fallback {display: none;}</style><div id=\"sk-container-id-6\" class=\"sk-top-container\"><div class=\"sk-text-repr-fallback\"><pre>RandomForestClassifier(class_weight=&#x27;balanced&#x27;, random_state=42)</pre><b>In a Jupyter environment, please rerun this cell to show the HTML representation or trust the notebook. <br />On GitHub, the HTML representation is unable to render, please try loading this page with nbviewer.org.</b></div><div class=\"sk-container\" hidden><div class=\"sk-item\"><div class=\"sk-estimator sk-toggleable\"><input class=\"sk-toggleable__control sk-hidden--visually\" id=\"sk-estimator-id-6\" type=\"checkbox\" checked><label for=\"sk-estimator-id-6\" class=\"sk-toggleable__label sk-toggleable__label-arrow\">RandomForestClassifier</label><div class=\"sk-toggleable__content\"><pre>RandomForestClassifier(class_weight=&#x27;balanced&#x27;, random_state=42)</pre></div></div></div></div></div>"
            ]
          },
          "metadata": {},
          "execution_count": 54
        }
      ],
      "source": [
        "# Here I choose to adjust the balance of different class weights because star 5 have an imbalanced high probablity among all results\n",
        "class_weights = \"balanced\"\n",
        "\n",
        "# Initialize RandomForestClassifier with balanced class weights\n",
        "rf_classifier_balance = RandomForestClassifier(n_estimators=100,\n",
        "                                       class_weight=class_weights,\n",
        "                                       random_state=42)\n",
        "\n",
        "# Train the classifier\n",
        "rf_classifier_balance.fit(X_train, y_train)\n"
      ]
    },
    {
      "cell_type": "code",
      "execution_count": 55,
      "metadata": {
        "colab": {
          "base_uri": "https://localhost:8080/"
        },
        "id": "7eYb2e5yh9-b",
        "outputId": "b61ba480-d749-495f-a4db-2943539bd95a"
      },
      "outputs": [
        {
          "output_type": "stream",
          "name": "stdout",
          "text": [
            "Model Accuracy: 0.85\n"
          ]
        }
      ],
      "source": [
        "# Predict on the test data\n",
        "y_pred_rf_w = rf_classifier_balance.predict(X_test)\n",
        "\n",
        "# Calculate the accuracy\n",
        "accuracy = accuracy_score(y_test, y_pred_rf_w)\n",
        "print(f\"Model Accuracy: {accuracy:.2f}\")"
      ]
    },
    {
      "cell_type": "code",
      "execution_count": 56,
      "metadata": {
        "colab": {
          "base_uri": "https://localhost:8080/"
        },
        "id": "kUatndyQKSiU",
        "outputId": "6de7d598-b332-45ac-a756-6aefe14170bc"
      },
      "outputs": [
        {
          "output_type": "stream",
          "name": "stdout",
          "text": [
            "Confusion Matrix:\n",
            "[[   3    0    0    0   43]\n",
            " [   0    1    2    0   41]\n",
            " [   0    0    6    0   92]\n",
            " [   1    1    2   16  301]\n",
            " [   1    0    4    6 2777]]\n",
            "Classification Report:\n",
            "              precision    recall  f1-score   support\n",
            "\n",
            "           1       0.60      0.07      0.12        46\n",
            "           2       0.50      0.02      0.04        44\n",
            "           3       0.43      0.06      0.11        98\n",
            "           4       0.73      0.05      0.09       321\n",
            "           5       0.85      1.00      0.92      2788\n",
            "\n",
            "    accuracy                           0.85      3297\n",
            "   macro avg       0.62      0.24      0.26      3297\n",
            "weighted avg       0.82      0.85      0.79      3297\n",
            "\n"
          ]
        }
      ],
      "source": [
        "\n",
        "# Compute confusion matrix\n",
        "conf_matrix = confusion_matrix(y_test, y_pred_rf_w)\n",
        "print(f\"Confusion Matrix:\\n{conf_matrix}\")\n",
        "\n",
        "# Detailed classification report\n",
        "class_report = classification_report(y_test, y_pred_rf_w)\n",
        "print(f\"Classification Report:\\n{class_report}\")"
      ]
    },
    {
      "cell_type": "markdown",
      "metadata": {
        "id": "YFhDgaZTwmCd"
      },
      "source": [
        "## Model selection 3: Naive Bayes"
      ]
    },
    {
      "cell_type": "code",
      "execution_count": 57,
      "metadata": {
        "colab": {
          "base_uri": "https://localhost:8080/",
          "height": 75
        },
        "id": "QZVMWGIj1o2n",
        "outputId": "71efe14d-df4c-4d97-d5b2-0939d1841683"
      },
      "outputs": [
        {
          "output_type": "execute_result",
          "data": {
            "text/plain": [
              "MultinomialNB()"
            ],
            "text/html": [
              "<style>#sk-container-id-7 {color: black;background-color: white;}#sk-container-id-7 pre{padding: 0;}#sk-container-id-7 div.sk-toggleable {background-color: white;}#sk-container-id-7 label.sk-toggleable__label {cursor: pointer;display: block;width: 100%;margin-bottom: 0;padding: 0.3em;box-sizing: border-box;text-align: center;}#sk-container-id-7 label.sk-toggleable__label-arrow:before {content: \"▸\";float: left;margin-right: 0.25em;color: #696969;}#sk-container-id-7 label.sk-toggleable__label-arrow:hover:before {color: black;}#sk-container-id-7 div.sk-estimator:hover label.sk-toggleable__label-arrow:before {color: black;}#sk-container-id-7 div.sk-toggleable__content {max-height: 0;max-width: 0;overflow: hidden;text-align: left;background-color: #f0f8ff;}#sk-container-id-7 div.sk-toggleable__content pre {margin: 0.2em;color: black;border-radius: 0.25em;background-color: #f0f8ff;}#sk-container-id-7 input.sk-toggleable__control:checked~div.sk-toggleable__content {max-height: 200px;max-width: 100%;overflow: auto;}#sk-container-id-7 input.sk-toggleable__control:checked~label.sk-toggleable__label-arrow:before {content: \"▾\";}#sk-container-id-7 div.sk-estimator input.sk-toggleable__control:checked~label.sk-toggleable__label {background-color: #d4ebff;}#sk-container-id-7 div.sk-label input.sk-toggleable__control:checked~label.sk-toggleable__label {background-color: #d4ebff;}#sk-container-id-7 input.sk-hidden--visually {border: 0;clip: rect(1px 1px 1px 1px);clip: rect(1px, 1px, 1px, 1px);height: 1px;margin: -1px;overflow: hidden;padding: 0;position: absolute;width: 1px;}#sk-container-id-7 div.sk-estimator {font-family: monospace;background-color: #f0f8ff;border: 1px dotted black;border-radius: 0.25em;box-sizing: border-box;margin-bottom: 0.5em;}#sk-container-id-7 div.sk-estimator:hover {background-color: #d4ebff;}#sk-container-id-7 div.sk-parallel-item::after {content: \"\";width: 100%;border-bottom: 1px solid gray;flex-grow: 1;}#sk-container-id-7 div.sk-label:hover label.sk-toggleable__label {background-color: #d4ebff;}#sk-container-id-7 div.sk-serial::before {content: \"\";position: absolute;border-left: 1px solid gray;box-sizing: border-box;top: 0;bottom: 0;left: 50%;z-index: 0;}#sk-container-id-7 div.sk-serial {display: flex;flex-direction: column;align-items: center;background-color: white;padding-right: 0.2em;padding-left: 0.2em;position: relative;}#sk-container-id-7 div.sk-item {position: relative;z-index: 1;}#sk-container-id-7 div.sk-parallel {display: flex;align-items: stretch;justify-content: center;background-color: white;position: relative;}#sk-container-id-7 div.sk-item::before, #sk-container-id-7 div.sk-parallel-item::before {content: \"\";position: absolute;border-left: 1px solid gray;box-sizing: border-box;top: 0;bottom: 0;left: 50%;z-index: -1;}#sk-container-id-7 div.sk-parallel-item {display: flex;flex-direction: column;z-index: 1;position: relative;background-color: white;}#sk-container-id-7 div.sk-parallel-item:first-child::after {align-self: flex-end;width: 50%;}#sk-container-id-7 div.sk-parallel-item:last-child::after {align-self: flex-start;width: 50%;}#sk-container-id-7 div.sk-parallel-item:only-child::after {width: 0;}#sk-container-id-7 div.sk-dashed-wrapped {border: 1px dashed gray;margin: 0 0.4em 0.5em 0.4em;box-sizing: border-box;padding-bottom: 0.4em;background-color: white;}#sk-container-id-7 div.sk-label label {font-family: monospace;font-weight: bold;display: inline-block;line-height: 1.2em;}#sk-container-id-7 div.sk-label-container {text-align: center;}#sk-container-id-7 div.sk-container {/* jupyter's `normalize.less` sets `[hidden] { display: none; }` but bootstrap.min.css set `[hidden] { display: none !important; }` so we also need the `!important` here to be able to override the default hidden behavior on the sphinx rendered scikit-learn.org. See: https://github.com/scikit-learn/scikit-learn/issues/21755 */display: inline-block !important;position: relative;}#sk-container-id-7 div.sk-text-repr-fallback {display: none;}</style><div id=\"sk-container-id-7\" class=\"sk-top-container\"><div class=\"sk-text-repr-fallback\"><pre>MultinomialNB()</pre><b>In a Jupyter environment, please rerun this cell to show the HTML representation or trust the notebook. <br />On GitHub, the HTML representation is unable to render, please try loading this page with nbviewer.org.</b></div><div class=\"sk-container\" hidden><div class=\"sk-item\"><div class=\"sk-estimator sk-toggleable\"><input class=\"sk-toggleable__control sk-hidden--visually\" id=\"sk-estimator-id-7\" type=\"checkbox\" checked><label for=\"sk-estimator-id-7\" class=\"sk-toggleable__label sk-toggleable__label-arrow\">MultinomialNB</label><div class=\"sk-toggleable__content\"><pre>MultinomialNB()</pre></div></div></div></div></div>"
            ]
          },
          "metadata": {},
          "execution_count": 57
        }
      ],
      "source": [
        "\n",
        "# Initialize the Multinomial Naive Bayes classifier\n",
        "nb_classifier = MultinomialNB()\n",
        "\n",
        "# Train the classifier\n",
        "nb_classifier.fit(X_train, y_train)\n"
      ]
    },
    {
      "cell_type": "code",
      "execution_count": 58,
      "metadata": {
        "colab": {
          "base_uri": "https://localhost:8080/"
        },
        "id": "LXlxbYy51ssk",
        "outputId": "b8f7874b-97b8-4173-9336-060368de09cb"
      },
      "outputs": [
        {
          "output_type": "stream",
          "name": "stdout",
          "text": [
            "Test Set Accuracy: 0.81\n"
          ]
        }
      ],
      "source": [
        "\n",
        "# Predict the comment scores on the test set\n",
        "y_pred_nb = nb_classifier.predict(X_test)\n",
        "\n",
        "# Calculate accuracy\n",
        "test_accuracy = accuracy_score(y_test, y_pred_nb)\n",
        "print(f\"Test Set Accuracy: {test_accuracy:.2f}\")\n"
      ]
    },
    {
      "cell_type": "code",
      "execution_count": 59,
      "metadata": {
        "colab": {
          "base_uri": "https://localhost:8080/"
        },
        "id": "l38A707EF4ac",
        "outputId": "07edcc81-e490-4e22-82ff-dc75e6d83e87"
      },
      "outputs": [
        {
          "output_type": "stream",
          "name": "stdout",
          "text": [
            "Confusion Matrix:\n",
            "[[  11    5    5    4   21]\n",
            " [   4    4   12    9   15]\n",
            " [  10    4   19   26   39]\n",
            " [   5    5   15  107  189]\n",
            " [  35   21   23  192 2517]]\n",
            "Classification Report:\n",
            "              precision    recall  f1-score   support\n",
            "\n",
            "           1       0.17      0.24      0.20        46\n",
            "           2       0.10      0.09      0.10        44\n",
            "           3       0.26      0.19      0.22        98\n",
            "           4       0.32      0.33      0.32       321\n",
            "           5       0.91      0.90      0.90      2788\n",
            "\n",
            "    accuracy                           0.81      3297\n",
            "   macro avg       0.35      0.35      0.35      3297\n",
            "weighted avg       0.81      0.81      0.81      3297\n",
            "\n"
          ]
        }
      ],
      "source": [
        "\n",
        "# Compute confusion matrix\n",
        "conf_matrix = confusion_matrix(y_test, y_pred_nb)\n",
        "print(\"Confusion Matrix:\")\n",
        "print(conf_matrix)\n",
        "\n",
        "\n",
        "# Generate classification report\n",
        "class_report = classification_report(y_test, y_pred_nb)\n",
        "print(\"Classification Report:\")\n",
        "print(class_report)"
      ]
    },
    {
      "cell_type": "markdown",
      "metadata": {
        "id": "lNaRzbhhI98m"
      },
      "source": [
        "## Questions"
      ]
    },
    {
      "cell_type": "markdown",
      "metadata": {
        "id": "2GLOayu8JAvw"
      },
      "source": [
        "### a. How does the performance of your model vary across different classes? Analyze and discuss your observations regarding the precision and recall metrics for each class."
      ]
    },
    {
      "cell_type": "markdown",
      "metadata": {
        "id": "Vra-imriJL68"
      },
      "source": [
        "Decision Tree Model\n",
        "1. **Class 1-4**: These classes have low precision and recall, indicating a significant number of false positives and false negatives. The model struggles to correctly identify these classes, which could be due to a lack of distinguishing features or not enough training data for these classes.\n",
        "2. **Class 5**: This class has high precision and recall, showing that the model performs well in identifying this class. This could be because the features of this class are well-defined or there is a significant amount of data for this class in the training set.\n",
        "\n",
        "Random Forest Model\n",
        "1. **Class 1-4**: Precision and recall are improved in comparison to the Decision Tree model, especially for class 1. However, these classes still show lower performance metrics than class 5, suggesting that while the Random Forest model handles the data's complexity better, there are still challenges.\n",
        "2. **Class 5**: Consistently high precision and recall indicate that the Random Forest model is very effective in predicting this class, likely due to the ensemble approach that corrects the overfitting of individual decision trees.\n",
        "\n",
        "Naive Bayes Model\n",
        "1. **Class 1-4**: These classes show an interesting pattern with precision being relatively higher than recall in some cases (class 4), and vice versa in others (class 1). This suggests that the Naive Bayes model has variable effectiveness, possibly due to the assumption of feature independence, which might not hold true for this data.\n",
        "2. **Class 5**: The precision and recall are both high, though not as high as in the Random Forest model. This class seems to be the easiest to predict across all models, but Naive Bayes does not perform as well as Random Forest.\n",
        "\n",
        "Summary and recommendations\n",
        "1. The high number of support for class 5 suggests a class imbalance, which often leads to models being biased towards the majority class. This could be why class 5 consistently shows better performance across all models.\n",
        "2. Precision measures the correctness of the predictions made by the model, whereas recall measures the model's ability to find all relevant instances. A trade-off between precision and recall is common; however, in a real-world application, the importance of either metric may vary based on the cost of false positives versus false negatives.\n",
        "3. In this example, Random Forest classifier shows the highest accuracy, In the future we may also consider ensemble or hybrid models that can leverage the strengths of different algorithms for improved overall performance."
      ]
    },
    {
      "cell_type": "markdown",
      "metadata": {
        "id": "9GlzgDSoJpiz"
      },
      "source": [
        "### b. Considering your analysis, how would you recommend using this model in a real- world application? Discuss any limitations or considerations that should be taken into account.\n",
        "\n"
      ]
    },
    {
      "cell_type": "markdown",
      "metadata": {
        "id": "CxGVYHObJu0v"
      },
      "source": [
        "1. Given the evident class imbalance, particularly with the dominance of Class 5, techniques like resampling the dataset, using class weights, or applying anomaly detection methods for minority classes could be beneficial.\n",
        "2. Here I choosed to Use Random Forest for a balance between interpretability and performance, especially if there's a need for robustness against overfitting would be the best choice for the dataset, although there needs to be a clear understanding of the trade-off between precision and recall. **Here I use random Forest here as my final classifier and my accuracy.csv and pred.csv is based on accuracy from the random forest model.**\n",
        "3. Depending on the application, we might prefer to maximize one at the expense of the other. For instance, in fraud detection, a high recall might be more desirable to catch as many fraud cases as possible, even if it means dealing with some false positives.\n",
        "4. Consider the computational resources required for model training and prediction. Here, Random Forest may require more resources due to its ensemble nature, which might be a limitation in resource-constrained environments.\n"
      ]
    },
    {
      "cell_type": "markdown",
      "metadata": {
        "id": "Ji44dhyTJyeg"
      },
      "source": [
        "### c. Analyze your data to address the previously identified accuracy issues. Describe your method to address this issue, implement it in code and retrain a classifier, and assess any improvements or ongoing challenges. Your evaluation will be based on your method's appropriateness, not the results."
      ]
    },
    {
      "cell_type": "markdown",
      "metadata": {
        "id": "OFJU2V2vKCqm"
      },
      "source": [
        "1. I noticed that the dataset is imbalanced, with the highest proportion occupied by 5-star ratings. So I try to adjust the balance by setting the `class_weights` variable to \"balanced\". However, there isn't much change in the accuracy, and neither does the precise or recall, we also see a slight decrease in f1 score, this means weight is not a good parameter here for this dataset, and I may choose to use some grid search or emsemble models for future analysis to potentially achieve a higher accuracy.\n",
        "2. In this case, therefore, I choose to export pred.csv based on my original random forest classifier.\n",
        "\n"
      ]
    }
  ],
  "metadata": {
    "colab": {
      "provenance": []
    },
    "kernelspec": {
      "display_name": "Python 3",
      "name": "python3"
    },
    "language_info": {
      "name": "python"
    }
  },
  "nbformat": 4,
  "nbformat_minor": 0
}